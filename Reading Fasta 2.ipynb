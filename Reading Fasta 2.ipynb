{
 "cells": [
  {
   "cell_type": "code",
   "execution_count": 34,
   "metadata": {},
   "outputs": [],
   "source": [
    "x = open(r'C:\\Users\\admin\\Desktop\\Fasta Files\\rcsb_pdb_6U9D.fasta', 'r') # File Location\n",
    "\n",
    "a = x.read()\n",
    "x.close()"
   ]
  },
  {
   "cell_type": "code",
   "execution_count": 35,
   "metadata": {},
   "outputs": [
    {
     "data": {
      "text/plain": [
       "'>6U9D_1|Chains A, B, E, F, I, J, M, N, Q, R, U, V|Acetolactate synthase catalytic subunit, mitochondrial|Saccharomyces cerevisiae (4932)\\nMHHHHHHENLYFQGAPSFNVDPLEQPAEPSKLAKKLRAEPDMDTSFVGLTGGQIFNEMMSRQNVDTVFGYPGGAILPVYDAIHNSDKFNFVLPKHEQGAGHMAEGYARASGKPGVVLVTSGPGATNVVTPMADAFADGIPMVVFTGQVPTSAIGTDAFQEADVVGISRSCTKWNVMVKSVEELPLRINEAFEIATSGRPGPVLVDLPKDVTAAILRNPIPTKTTLPSNALNQLTSRAQDEFVMQSINKAADLINLAKKPVLYVGAGILNHADGPRLLKELSDRAQIPVTTTLQGLGSFDQEDPKSLDMLGMHGCATANLAVQNADLIIAVGARFDDRVTGNISKFAPEARRAAAEGRGGIIHFEVSPKNINKVVQTQIAVEGDATTNLGKMMSKIFPVKERSEWFAQINKWKKEYPYAYMEETPGSKIKPQTVIKKLSKVANDTGRHVIVTTGVGQHQMWAAQHWTWRNPHTFITSGGLGTMGYGLPAAIGAQVAKPESLVIDIDGDASFNMTLTELSSAVQAGTPVKILILNNEEQGMVTQWQSLFYEHRYSHTHQLNPDFIKLAEAMGLKGLRVKKQEELDAKLKEFVSTKGPVLLEVEVDKKVPVLPMVAGGSGLDEFINFDPEVERQQTELRHKRTGGKH\\n>6U9D_2|Chains C, D, G, H, K, L, O, P, S, T, W, X|Acetolactate synthase small subunit, mitochondrial|Saccharomyces cerevisiae (4932)\\nMGSSHHHHHHSSGLVPRGSHMENLYFQGATRPPLPTLDTPSWNANSAVSSIIYETPAPSRQPRKQHVLNCLVQNEPGVLSRVSGTLAARGFNIDSLVVCNTEVKDLSRMTIVLQGQDGVIEQARRQIEDLVPVYAVLDYTNSEIIKRELVMARISLLGTEYFEDLLLHHHTSTNAGAADSQELVAEIREKQFHPANLPASEVLRLKHEHLNDITNLTNNFGGRVVDISETSCIVELSAKPTRISAFLKLVEPFGVLECARSGMMALPRTPLKTSTEEAADEDEKISEIVDISQLPPG\\n'"
      ]
     },
     "execution_count": 35,
     "metadata": {},
     "output_type": "execute_result"
    }
   ],
   "source": [
    "a"
   ]
  },
  {
   "cell_type": "code",
   "execution_count": 36,
   "metadata": {},
   "outputs": [
    {
     "name": "stdout",
     "output_type": "stream",
     "text": [
      "There is No GDG Pattern\n"
     ]
    }
   ],
   "source": [
    "#Finding GDG\n",
    "\n",
    "def find_indices_of_substring(full_string, sub_string):\n",
    "    return [index for index in range(len(full_string)) if full_string.startswith(sub_string, index)]\n",
    "\n",
    "indices = find_indices_of_substring(a, 'GDG') \n",
    "if(indices):\n",
    "    print(\"GDG found at index: \")\n",
    "    for i in indices:\n",
    "        print(i, \" \")\n",
    "else:\n",
    "    print(\"There is No GDG Pattern\")"
   ]
  },
  {
   "cell_type": "code",
   "execution_count": 37,
   "metadata": {},
   "outputs": [
    {
     "name": "stdout",
     "output_type": "stream",
     "text": [
      "GDA found at index: \n",
      "518  \n",
      "642  \n"
     ]
    }
   ],
   "source": [
    "#Finding GDA\n",
    "\n",
    "def find_indices_of_substring(full_string, sub_string):\n",
    "    return [index for index in range(len(full_string)) if full_string.startswith(sub_string, index)]\n",
    "\n",
    "indices = find_indices_of_substring(a, 'GDA') \n",
    "if(indices):\n",
    "    print(\"GDA found at index: \")\n",
    "    for i in indices:\n",
    "        print(i, \" \")\n",
    "else:\n",
    "    print(\"There is No GDA Pattern\")"
   ]
  },
  {
   "cell_type": "code",
   "execution_count": 38,
   "metadata": {},
   "outputs": [
    {
     "name": "stdout",
     "output_type": "stream",
     "text": [
      "ADG found at index: \n",
      "272  \n",
      "407  \n"
     ]
    }
   ],
   "source": [
    "#Finding ADG\n",
    "\n",
    "def find_indices_of_substring(full_string, sub_string):\n",
    "    return [index for index in range(len(full_string)) if full_string.startswith(sub_string, index)]\n",
    "\n",
    "indices = find_indices_of_substring(a, 'ADG') \n",
    "if(indices):\n",
    "    print(\"ADG found at index: \")\n",
    "    for i in indices:\n",
    "        print(i, \" \")\n",
    "else:\n",
    "    print(\"There is No ADG Pattern\")"
   ]
  },
  {
   "cell_type": "code",
   "execution_count": 39,
   "metadata": {},
   "outputs": [
    {
     "name": "stdout",
     "output_type": "stream",
     "text": [
      "There is No SDG Pattern\n"
     ]
    }
   ],
   "source": [
    "#Finding SDG\n",
    "\n",
    "def find_indices_of_substring(full_string, sub_string):\n",
    "    return [index for index in range(len(full_string)) if full_string.startswith(sub_string, index)]\n",
    "\n",
    "indices = find_indices_of_substring(a, 'SDG') \n",
    "if(indices):\n",
    "    print(\"SDG found at index: \")\n",
    "    for i in indices:\n",
    "        print(i, \" \")\n",
    "else:\n",
    "    print(\"There is No SDG Pattern\")"
   ]
  }
 ],
 "metadata": {
  "kernelspec": {
   "display_name": "Python 3",
   "language": "python",
   "name": "python3"
  },
  "language_info": {
   "codemirror_mode": {
    "name": "ipython",
    "version": 3
   },
   "file_extension": ".py",
   "mimetype": "text/x-python",
   "name": "python",
   "nbconvert_exporter": "python",
   "pygments_lexer": "ipython3",
   "version": "3.7.4"
  }
 },
 "nbformat": 4,
 "nbformat_minor": 4
}
